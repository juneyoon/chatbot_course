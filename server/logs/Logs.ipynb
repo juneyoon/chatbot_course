{
 "cells": [
  {
   "cell_type": "code",
   "execution_count": 1,
   "metadata": {},
   "outputs": [],
   "source": [
    "import json\n",
    "import re\n",
    "import os"
   ]
  },
  {
   "cell_type": "code",
   "execution_count": 2,
   "metadata": {},
   "outputs": [],
   "source": [
    "def transform_text(interpreted):\n",
    "    text = interpreted['text']\n",
    "    if interpreted['entities']:\n",
    "        add = 0\n",
    "        for entity in interpreted['entities']:\n",
    "            text = text[:entity['start']+add]+\"[\"+entity['value']+\"](\"+entity['entity']+\")\"+text[entity['end']+add:]\n",
    "            add += 4+len(entity['entity'])\n",
    "    return text"
   ]
  },
  {
   "cell_type": "markdown",
   "metadata": {},
   "source": [
    "## Intents from conversations"
   ]
  },
  {
   "cell_type": "code",
   "execution_count": 4,
   "metadata": {},
   "outputs": [],
   "source": [
    "conversation_files = os.listdir(\"conversations\")"
   ]
  },
  {
   "cell_type": "code",
   "execution_count": 5,
   "metadata": {},
   "outputs": [],
   "source": [
    "intents = {}\n",
    "for conversation_file in conversation_files:\n",
    "    if conversation_file[-4:] == \"json\":\n",
    "        with open(\"conversations/{}\".format(conversation_file)) as f:\n",
    "            conv = json.load(f)\n",
    "            for message in conv:\n",
    "                if message['from'] == \"user\":\n",
    "                    if intents.get(message['intent']) is None:\n",
    "                        intents[message['intent']] = []\n",
    "                    intents[message['intent']].append(transform_text(message['interpreted']))"
   ]
  },
  {
   "cell_type": "code",
   "execution_count": 6,
   "metadata": {},
   "outputs": [
    {
     "data": {
      "text/plain": [
       "{'yes_simple': ['I want to order something',\n",
       "  'Yes, I want to make an order',\n",
       "  'ok',\n",
       "  'yes'],\n",
       " 'yes_x_y': ['Yes, I want some [nachos](order_item)']}"
      ]
     },
     "execution_count": 6,
     "metadata": {},
     "output_type": "execute_result"
    }
   ],
   "source": [
    "intents"
   ]
  },
  {
   "cell_type": "markdown",
   "metadata": {},
   "source": [
    "## Intents from disambiguisations"
   ]
  },
  {
   "cell_type": "code",
   "execution_count": 7,
   "metadata": {},
   "outputs": [
    {
     "name": "stdout",
     "output_type": "stream",
     "text": [
      "{'from': 'user', 'message': 'I want to order something', 'intent': 'yes_simple', 'interpreted': {'entities': [], 'intent': {'confidence': 0.4787919819355011, 'name': 'yes_simple'}, 'intent_ranking': [{'confidence': 0.4787919819355011, 'name': 'yes_simple'}, {'confidence': 0.4017016589641571, 'name': 'yes_x_y'}, {'confidence': 0.11359098553657532, 'name': 'decline'}, {'confidence': 0.0059153735637664795, 'name': 'yes_not_sure'}], 'text': 'I want to order something'}}\n"
     ]
    }
   ],
   "source": [
    "intents = {}\n",
    "for conversation_file in conversation_files:\n",
    "    if conversation_file[-4:] == \"json\":\n",
    "        with open(\"conversations/{}\".format(conversation_file)) as f:\n",
    "            conv = json.load(f)\n",
    "            for i in range(0, len(conv)):\n",
    "                message = conv[i]\n",
    "                if message['from'] == \"bot\" and message.get(\"disambiguisation\"):\n",
    "                    if len(conv)>i+1 and conv[i+1]['interpreted']['intent']['confidence'] >= 0.9:\n",
    "                        print(conv[i-1])\n",
    "                        intent = conv[i+1]['interpreted']['intent']['name']\n",
    "                        if intents.get(intent) is None:\n",
    "                            intents[intent] = []\n",
    "                        \n",
    "                        intents[intent].append(transform_text(conv[i-1]['interpreted']))"
   ]
  },
  {
   "cell_type": "code",
   "execution_count": 8,
   "metadata": {},
   "outputs": [
    {
     "data": {
      "text/plain": [
       "{'yes_simple': ['I want to order something']}"
      ]
     },
     "execution_count": 8,
     "metadata": {},
     "output_type": "execute_result"
    }
   ],
   "source": [
    "intents"
   ]
  },
  {
   "cell_type": "code",
   "execution_count": null,
   "metadata": {},
   "outputs": [],
   "source": []
  }
 ],
 "metadata": {
  "kernelspec": {
   "display_name": "Python 3",
   "language": "python",
   "name": "python3"
  },
  "language_info": {
   "codemirror_mode": {
    "name": "ipython",
    "version": 3
   },
   "file_extension": ".py",
   "mimetype": "text/x-python",
   "name": "python",
   "nbconvert_exporter": "python",
   "pygments_lexer": "ipython3",
   "version": "3.7.9"
  }
 },
 "nbformat": 4,
 "nbformat_minor": 4
}
