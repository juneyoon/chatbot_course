{
 "cells": [
  {
   "cell_type": "code",
   "execution_count": 2,
   "metadata": {},
   "outputs": [],
   "source": [
    "import pandas as pd\n",
    "import json"
   ]
  },
  {
   "cell_type": "code",
   "execution_count": 3,
   "metadata": {},
   "outputs": [],
   "source": [
    "df = pd.read_csv(\"server/data/food_data.csv\")"
   ]
  },
  {
   "cell_type": "code",
   "execution_count": 4,
   "metadata": {},
   "outputs": [
    {
     "data": {
      "text/html": [
       "<div>\n",
       "<style scoped>\n",
       "    .dataframe tbody tr th:only-of-type {\n",
       "        vertical-align: middle;\n",
       "    }\n",
       "\n",
       "    .dataframe tbody tr th {\n",
       "        vertical-align: top;\n",
       "    }\n",
       "\n",
       "    .dataframe thead th {\n",
       "        text-align: right;\n",
       "    }\n",
       "</style>\n",
       "<table border=\"1\" class=\"dataframe\">\n",
       "  <thead>\n",
       "    <tr style=\"text-align: right;\">\n",
       "      <th></th>\n",
       "      <th>id</th>\n",
       "      <th>name</th>\n",
       "      <th>category</th>\n",
       "      <th>description</th>\n",
       "      <th>ingredients</th>\n",
       "      <th>country</th>\n",
       "      <th>kcal</th>\n",
       "      <th>fat</th>\n",
       "      <th>saturates</th>\n",
       "      <th>carbs</th>\n",
       "      <th>sugars</th>\n",
       "      <th>fibre</th>\n",
       "      <th>protein</th>\n",
       "      <th>salt</th>\n",
       "      <th>special</th>\n",
       "      <th>price</th>\n",
       "    </tr>\n",
       "  </thead>\n",
       "  <tbody>\n",
       "    <tr>\n",
       "      <th>0</th>\n",
       "      <td>1</td>\n",
       "      <td>Japanese ramen noodle soup</td>\n",
       "      <td>soup</td>\n",
       "      <td>Ramen is a Japanese noodle soup. It consists o...</td>\n",
       "      <td>chicken, garlica, soy sauce, ginger, ramen noo...</td>\n",
       "      <td>Japan</td>\n",
       "      <td>626</td>\n",
       "      <td>12g</td>\n",
       "      <td>3g</td>\n",
       "      <td>75g</td>\n",
       "      <td>7g</td>\n",
       "      <td>6g</td>\n",
       "      <td>51g</td>\n",
       "      <td>4.9g</td>\n",
       "      <td>NaN</td>\n",
       "      <td>35</td>\n",
       "    </tr>\n",
       "    <tr>\n",
       "      <th>1</th>\n",
       "      <td>2</td>\n",
       "      <td>Japanese rice/gohan</td>\n",
       "      <td>meal</td>\n",
       "      <td>Takikomi Gohan is a Japanese rice dish which s...</td>\n",
       "      <td>sushi rice, dashi, pickles, nori, sliced sprin...</td>\n",
       "      <td>Japan</td>\n",
       "      <td>259</td>\n",
       "      <td>1g</td>\n",
       "      <td>0g</td>\n",
       "      <td>58g</td>\n",
       "      <td>2g</td>\n",
       "      <td>0g</td>\n",
       "      <td>5g</td>\n",
       "      <td>0.3g</td>\n",
       "      <td>gluten-free, vegan, egg-free, vegetarian, dair...</td>\n",
       "      <td>28</td>\n",
       "    </tr>\n",
       "    <tr>\n",
       "      <th>2</th>\n",
       "      <td>3</td>\n",
       "      <td>Miso Soup</td>\n",
       "      <td>soup</td>\n",
       "      <td>Miso soup (味噌汁, misoshiru) is a traditional Ja...</td>\n",
       "      <td>wakame seaweed, dashi, tofu, miso paste, sprin...</td>\n",
       "      <td>Japan</td>\n",
       "      <td>99</td>\n",
       "      <td>4g</td>\n",
       "      <td>0.4g</td>\n",
       "      <td>9g</td>\n",
       "      <td>1g</td>\n",
       "      <td>1g</td>\n",
       "      <td>7g</td>\n",
       "      <td>2.44g</td>\n",
       "      <td>dairy-free, egg-free, vegan, vegetarian</td>\n",
       "      <td>39</td>\n",
       "    </tr>\n",
       "    <tr>\n",
       "      <th>3</th>\n",
       "      <td>4</td>\n",
       "      <td>Smoked salmon &amp; avocado sushi</td>\n",
       "      <td>meal</td>\n",
       "      <td>Smoked salmon &amp; avocado sushi. Sushi is a Japa...</td>\n",
       "      <td>sushi rice, vinegar, sugar, avocado, seaweed, ...</td>\n",
       "      <td>Japan</td>\n",
       "      <td>49</td>\n",
       "      <td>2g</td>\n",
       "      <td>0g</td>\n",
       "      <td>7g</td>\n",
       "      <td>0g</td>\n",
       "      <td>1g</td>\n",
       "      <td>2g</td>\n",
       "      <td>0.24g</td>\n",
       "      <td>NaN</td>\n",
       "      <td>8</td>\n",
       "    </tr>\n",
       "    <tr>\n",
       "      <th>4</th>\n",
       "      <td>5</td>\n",
       "      <td>Beetroot &amp; avocado nori rolls with wasabi dipp...</td>\n",
       "      <td>meal</td>\n",
       "      <td>Beetroot &amp; avocado nori rolls with wasabi dipp...</td>\n",
       "      <td>beetroot, seaweed, avocado, sesame seeds, wasa...</td>\n",
       "      <td>Japan</td>\n",
       "      <td>32</td>\n",
       "      <td>2g</td>\n",
       "      <td>1g</td>\n",
       "      <td>1g</td>\n",
       "      <td>1g</td>\n",
       "      <td>1g</td>\n",
       "      <td>1g</td>\n",
       "      <td>0.3g</td>\n",
       "      <td>vegetarian, vegan, egg-free, dairy-free</td>\n",
       "      <td>26</td>\n",
       "    </tr>\n",
       "  </tbody>\n",
       "</table>\n",
       "</div>"
      ],
      "text/plain": [
       "   id                                               name category  \\\n",
       "0   1                         Japanese ramen noodle soup     soup   \n",
       "1   2                                Japanese rice/gohan     meal   \n",
       "2   3                                          Miso Soup     soup   \n",
       "3   4                      Smoked salmon & avocado sushi     meal   \n",
       "4   5  Beetroot & avocado nori rolls with wasabi dipp...     meal   \n",
       "\n",
       "                                         description  \\\n",
       "0  Ramen is a Japanese noodle soup. It consists o...   \n",
       "1  Takikomi Gohan is a Japanese rice dish which s...   \n",
       "2  Miso soup (味噌汁, misoshiru) is a traditional Ja...   \n",
       "3  Smoked salmon & avocado sushi. Sushi is a Japa...   \n",
       "4  Beetroot & avocado nori rolls with wasabi dipp...   \n",
       "\n",
       "                                         ingredients country  kcal  fat  \\\n",
       "0  chicken, garlica, soy sauce, ginger, ramen noo...   Japan   626  12g   \n",
       "1  sushi rice, dashi, pickles, nori, sliced sprin...   Japan   259   1g   \n",
       "2  wakame seaweed, dashi, tofu, miso paste, sprin...   Japan    99   4g   \n",
       "3  sushi rice, vinegar, sugar, avocado, seaweed, ...   Japan    49   2g   \n",
       "4  beetroot, seaweed, avocado, sesame seeds, wasa...   Japan    32   2g   \n",
       "\n",
       "  saturates carbs sugars fibre protein   salt  \\\n",
       "0        3g   75g     7g    6g     51g   4.9g   \n",
       "1        0g   58g     2g    0g      5g   0.3g   \n",
       "2      0.4g    9g     1g    1g      7g  2.44g   \n",
       "3        0g    7g     0g    1g      2g  0.24g   \n",
       "4        1g    1g     1g    1g      1g   0.3g   \n",
       "\n",
       "                                             special  price  \n",
       "0                                                NaN     35  \n",
       "1  gluten-free, vegan, egg-free, vegetarian, dair...     28  \n",
       "2            dairy-free, egg-free, vegan, vegetarian     39  \n",
       "3                                                NaN      8  \n",
       "4            vegetarian, vegan, egg-free, dairy-free     26  "
      ]
     },
     "execution_count": 4,
     "metadata": {},
     "output_type": "execute_result"
    }
   ],
   "source": [
    "df.head()"
   ]
  },
  {
   "cell_type": "code",
   "execution_count": 5,
   "metadata": {},
   "outputs": [],
   "source": [
    "data = df.to_json(orient='records')"
   ]
  },
  {
   "cell_type": "code",
   "execution_count": 6,
   "metadata": {},
   "outputs": [],
   "source": [
    "data = json.loads(data)"
   ]
  },
  {
   "cell_type": "code",
   "execution_count": 7,
   "metadata": {},
   "outputs": [
    {
     "data": {
      "text/plain": [
       "{'id': 1,\n",
       " 'name': 'Japanese ramen noodle soup',\n",
       " 'category': 'soup',\n",
       " 'description': 'Ramen is a Japanese noodle soup. It consists of Chinese wheat noodles served in a meat or (occasionally) fish-based broth, often flavored with soy sauce or miso, and uses toppings such as sliced pork, nori (dried seaweed), menma, and scallions. Nearly every region in Japan has its own variation of ramen, such as the tonkotsu (pork bone broth) ramen of Kyushu and the miso ramen of Hokkaido. Mazemen is the name of a ramen dish that is not served in a soup, but rather with a sauce (such as tare), like noodles that are served with a sweet and sour sauce.',\n",
       " 'ingredients': 'chicken, garlica, soy sauce, ginger, ramen noodles, pork, eggs, corn, onions',\n",
       " 'country': 'Japan',\n",
       " 'kcal': 626,\n",
       " 'fat': '12g',\n",
       " 'saturates': '3g',\n",
       " 'carbs': '75g',\n",
       " 'sugars': '7g',\n",
       " 'fibre': '6g',\n",
       " 'protein': '51g',\n",
       " 'salt': '4.9g',\n",
       " 'special': None,\n",
       " 'price': 35}"
      ]
     },
     "execution_count": 7,
     "metadata": {},
     "output_type": "execute_result"
    }
   ],
   "source": [
    "data[0]"
   ]
  },
  {
   "cell_type": "markdown",
   "metadata": {},
   "source": [
    "## Encoding Intro & Examples"
   ]
  },
  {
   "cell_type": "code",
   "execution_count": 8,
   "metadata": {},
   "outputs": [],
   "source": [
    "import tensorflow as tf\n",
    "import tensorflow_hub as hub"
   ]
  },
  {
   "cell_type": "code",
   "execution_count": 10,
   "metadata": {},
   "outputs": [],
   "source": [
    "import matplotlib.pyplot as plt\n",
    "import numpy as np\n",
    "import os\n",
    "import re\n",
    "import seaborn as sns"
   ]
  },
  {
   "cell_type": "code",
   "execution_count": 11,
   "metadata": {},
   "outputs": [],
   "source": [
    "module_url = \"https://tfhub.dev/google/universal-sentence-encoder/4\" \n",
    "model = hub.load(module_url)"
   ]
  },
  {
   "cell_type": "code",
   "execution_count": 12,
   "metadata": {},
   "outputs": [],
   "source": [
    "phrases = [\n",
    "    \"I am a programmer\",\n",
    "    \"I work in computer science\",\n",
    "    \"I love nature\"\n",
    "]"
   ]
  },
  {
   "cell_type": "code",
   "execution_count": 13,
   "metadata": {},
   "outputs": [],
   "source": [
    "embeds = model(phrases)"
   ]
  },
  {
   "cell_type": "code",
   "execution_count": 14,
   "metadata": {},
   "outputs": [],
   "source": [
    "def plot_similarity(labels, features, rotation):\n",
    "    corr = np.inner(features, features)\n",
    "    sns.set(font_scale=1.2)\n",
    "    g = sns.heatmap(\n",
    "      corr,\n",
    "      xticklabels=labels,\n",
    "      yticklabels=labels,\n",
    "      vmin=0,\n",
    "      vmax=1,\n",
    "      cmap=\"YlOrRd\")\n",
    "    g.set_xticklabels(labels, rotation=rotation)\n",
    "    g.set_title(\"Semantic Textual Similarity\")\n",
    "\n",
    "def run_and_plot(messages_):\n",
    "    message_embeddings_ = model(messages_)\n",
    "    plot_similarity(messages_, message_embeddings_, 90)"
   ]
  },
  {
   "cell_type": "code",
   "execution_count": 15,
   "metadata": {},
   "outputs": [
    {
     "data": {
      "image/png": "[encoded data removed]",
      "text/plain": [
       "<Figure size 432x288 with 2 Axes>"
      ]
     },
     "metadata": {},
     "output_type": "display_data"
    }
   ],
   "source": [
    "run_and_plot(phrases)"
   ]
  },
  {
   "cell_type": "markdown",
   "metadata": {},
   "source": [
    "## Encoding Filters"
   ]
  },
  {
   "cell_type": "code",
   "execution_count": 16,
   "metadata": {},
   "outputs": [],
   "source": [
    "filter_encodings = {\n",
    "    'categories': {},\n",
    "    'countries': {},\n",
    "    'specials': {},\n",
    "    'names': {},\n",
    "}"
   ]
  },
  {
   "cell_type": "code",
   "execution_count": 17,
   "metadata": {},
   "outputs": [],
   "source": [
    "for d in data:\n",
    "    filter_encodings['categories'][d['category']] = 1"
   ]
  },
  {
   "cell_type": "code",
   "execution_count": 18,
   "metadata": {},
   "outputs": [],
   "source": [
    "for d in data:\n",
    "    filter_encodings['countries'][d['country']] = 1"
   ]
  },
  {
   "cell_type": "code",
   "execution_count": 19,
   "metadata": {},
   "outputs": [],
   "source": [
    "specials = set()\n",
    "for d in data:\n",
    "    if d['special']:\n",
    "        d_specials = d['special'].split(',')\n",
    "        for special in d_specials:\n",
    "            filter_encodings['specials'][special.strip()] = 1"
   ]
  },
  {
   "cell_type": "code",
   "execution_count": 20,
   "metadata": {},
   "outputs": [],
   "source": [
    "for d in data:\n",
    "    filter_encodings['names'][d['name']] = 1"
   ]
  },
  {
   "cell_type": "code",
   "execution_count": 21,
   "metadata": {},
   "outputs": [
    {
     "data": {
      "text/plain": [
       "{'gluten-free': 1, 'vegan': 1, 'egg-free': 1, 'vegetarian': 1, 'dairy-free': 1}"
      ]
     },
     "execution_count": 21,
     "metadata": {},
     "output_type": "execute_result"
    }
   ],
   "source": [
    "filter_encodings['specials']"
   ]
  },
  {
   "cell_type": "code",
   "execution_count": 22,
   "metadata": {},
   "outputs": [],
   "source": [
    "for filter_type in filter_encodings:\n",
    "    for key in filter_encodings[filter_type]:\n",
    "        filter_encodings[filter_type][key] = model([key])[0]"
   ]
  },
  {
   "cell_type": "code",
   "execution_count": 23,
   "metadata": {},
   "outputs": [
    {
     "data": {
      "text/plain": [
       "<tf.Tensor: shape=(512,), dtype=float32, numpy=\n",
       "array([-2.58551054e-02,  8.00631195e-03,  4.13219258e-02,  1.30952364e-02,\n",
       "        5.21037243e-02, -5.61092608e-02, -1.06422221e-02, -1.71547066e-02,\n",
       "        1.17509700e-02,  7.68037466e-03,  6.97503313e-02,  5.97540438e-02,\n",
       "       -1.34337060e-02, -3.38575132e-02, -8.01808164e-02,  2.60044560e-02,\n",
       "       -3.21492590e-02,  3.65319215e-02,  1.44102741e-02, -2.78957486e-02,\n",
       "       -4.50368077e-02,  5.01818545e-02,  3.05113830e-02,  4.18683775e-02,\n",
       "        1.70609914e-02,  7.48758242e-02, -3.77269462e-02, -4.78665493e-02,\n",
       "        1.96442790e-02, -5.47615662e-02,  1.36650233e-02,  1.61892958e-02,\n",
       "       -5.79380468e-02, -4.79701534e-02, -1.44848088e-02, -3.40487895e-04,\n",
       "       -2.99146771e-02, -7.15540797e-02,  2.69205756e-02,  2.86074206e-02,\n",
       "       -1.47995669e-02, -2.88707372e-02,  4.61353734e-02, -1.87604856e-02,\n",
       "       -7.91729540e-02,  5.07128946e-02, -1.85098909e-02, -1.06367311e-02,\n",
       "       -7.83717185e-02, -1.04527064e-02, -1.22589506e-02,  5.78547791e-02,\n",
       "        7.55552948e-02,  2.63264067e-02,  8.27494310e-04, -1.20103434e-02,\n",
       "        4.21563629e-03,  2.14973856e-02,  6.24630190e-02, -4.87945639e-02,\n",
       "       -5.27701490e-02, -1.99782252e-02,  1.61092933e-02, -5.69950836e-03,\n",
       "       -6.09499775e-02,  5.22287600e-02, -6.92671314e-02, -7.42860278e-03,\n",
       "        4.28934097e-02,  7.87495747e-02, -7.59788826e-02,  2.76925527e-02,\n",
       "       -6.13759272e-02, -1.20908888e-02,  3.23037840e-02,  5.59067316e-02,\n",
       "        1.64690372e-02,  8.47192307e-04, -5.01576439e-03,  3.38263735e-02,\n",
       "       -2.68457402e-02,  7.20641539e-02, -6.52294904e-02, -1.44980615e-02,\n",
       "       -2.08290387e-02, -4.64414917e-02, -4.55391444e-02,  2.72637941e-02,\n",
       "       -4.39392477e-02,  2.75150500e-02,  4.50249538e-02,  2.37635933e-02,\n",
       "       -1.35115655e-02,  4.50308323e-02,  7.49541819e-02, -3.65980715e-02,\n",
       "       -6.10321239e-02, -5.03822118e-02,  3.33856940e-02, -6.11537090e-03,\n",
       "       -2.50961296e-02, -6.30446374e-02,  2.27361755e-03,  1.71898063e-02,\n",
       "       -4.70822044e-02,  1.52900200e-02,  6.74971798e-03,  4.49330956e-02,\n",
       "       -8.76773521e-03,  3.82030830e-02, -2.67296210e-02, -3.56475115e-02,\n",
       "       -3.31929401e-02, -1.46889035e-02, -1.27040111e-02, -2.79934462e-02,\n",
       "        7.59971216e-02,  1.44092487e-02,  2.07433812e-02,  1.37350813e-03,\n",
       "       -5.66907227e-02,  1.35503188e-02, -3.72816510e-02, -4.23907861e-02,\n",
       "       -7.10718483e-02,  4.92274947e-02, -5.81414104e-02,  6.06660917e-02,\n",
       "       -4.23140861e-02,  6.59393221e-02, -2.36534351e-03,  7.99004138e-02,\n",
       "        4.11355533e-02,  7.76852146e-02, -3.27121047e-03,  4.84437160e-02,\n",
       "        5.10790311e-02, -4.52536595e-04,  6.00753203e-02,  3.89065295e-02,\n",
       "        2.56591639e-03, -6.48772120e-02,  3.23603712e-02,  7.57844327e-03,\n",
       "        6.22562272e-03,  3.34393769e-03, -6.76477104e-02, -1.97268799e-02,\n",
       "        1.43156704e-02,  2.05507688e-02, -5.42562976e-02,  3.84070240e-02,\n",
       "       -7.64932111e-02,  4.90566865e-02, -7.59075582e-02, -7.89424498e-03,\n",
       "       -7.54386634e-02, -7.36459047e-02,  5.65378107e-02,  5.83174229e-02,\n",
       "       -5.38630821e-02, -5.06130187e-03,  6.24094978e-02, -3.96111272e-02,\n",
       "        3.92071120e-02,  6.87519237e-02, -4.99851741e-02,  3.00173610e-02,\n",
       "       -3.58334482e-02, -5.64745255e-02, -5.55969495e-03, -3.67061794e-02,\n",
       "       -3.46411280e-02, -7.08116964e-03,  3.68839055e-02, -5.88251725e-02,\n",
       "        5.74420542e-02, -6.76249936e-02, -2.53816810e-03, -5.20046800e-02,\n",
       "        3.89516279e-02,  2.96676606e-02,  1.77930314e-02, -2.04915460e-03,\n",
       "        2.13703364e-02,  6.92822039e-02, -7.90499896e-02, -3.16229835e-02,\n",
       "       -1.20589510e-02,  5.01772314e-02, -4.66082208e-02,  1.76243689e-02,\n",
       "        4.68326136e-02, -4.44678999e-02,  2.66533531e-02, -6.21308237e-02,\n",
       "       -2.45043114e-02, -4.66133691e-02, -3.14731114e-02,  3.19257751e-02,\n",
       "       -1.93200372e-02, -2.94239800e-02,  3.97986174e-02,  6.35701865e-02,\n",
       "        4.00182940e-02,  1.43741257e-02, -2.97426339e-02,  1.09504852e-02,\n",
       "       -1.56869683e-02,  8.45587812e-03, -3.66722085e-02,  7.87300617e-02,\n",
       "        1.16033452e-02, -1.91432610e-02, -2.40622871e-02, -4.41540312e-03,\n",
       "        3.16455029e-02,  1.32548232e-02,  9.38993599e-03,  3.74083668e-02,\n",
       "        7.03597739e-02,  2.21470371e-02, -3.01331142e-03,  6.12070821e-02,\n",
       "        2.34784465e-02,  4.79887389e-02, -5.19819632e-02, -4.53407736e-03,\n",
       "       -5.49804196e-02, -1.88471396e-02, -2.83791646e-02, -8.04871507e-03,\n",
       "       -1.81834158e-02,  7.92530701e-02,  8.12364556e-03,  4.49054092e-02,\n",
       "       -2.08956134e-02, -5.37771173e-02, -5.42997159e-02, -3.12485415e-02,\n",
       "       -1.99091192e-02, -6.14823401e-02,  6.17273077e-02, -5.75288082e-04,\n",
       "       -6.80127740e-02,  4.44497578e-02,  8.01767111e-02, -4.02553007e-02,\n",
       "        3.06988675e-02, -7.65301138e-02,  4.67810743e-02, -7.96021428e-04,\n",
       "       -7.03882948e-02,  1.55095709e-02, -6.36633486e-02,  5.09836711e-02,\n",
       "       -7.61082917e-02, -6.30445108e-02, -7.36725423e-03, -1.28403781e-02,\n",
       "       -7.08942860e-02, -3.63166407e-02,  4.68534790e-02,  4.47882935e-02,\n",
       "        3.24124880e-02, -7.21130744e-02, -3.02301720e-02,  5.35338745e-02,\n",
       "        1.12215215e-02,  3.47044431e-02,  4.08886634e-02,  1.49000939e-02,\n",
       "        3.79165225e-02, -5.40892482e-02,  7.88285956e-02, -3.40379700e-02,\n",
       "        2.66617648e-02, -2.59176344e-02,  7.57076964e-02,  7.55335316e-02,\n",
       "        2.46302597e-02, -1.49075724e-02, -3.27663422e-02, -1.18190758e-02,\n",
       "       -7.28159398e-02,  4.37011681e-02, -7.42247188e-03,  5.89523166e-02,\n",
       "       -4.92333956e-02,  1.04621937e-03,  3.64414714e-02, -3.50137427e-02,\n",
       "        7.86908492e-02,  5.14660683e-03, -1.37168849e-02,  3.65951844e-02,\n",
       "        3.58603075e-02,  6.52867928e-02, -7.70013258e-02,  7.16872066e-02,\n",
       "        8.11407994e-03, -3.35778520e-02, -1.86393969e-02, -3.12393047e-02,\n",
       "       -9.74227441e-04,  4.36494835e-02,  6.15373813e-02,  5.60503975e-02,\n",
       "        2.49354970e-02, -5.84930964e-02, -1.70913450e-02, -4.35657799e-02,\n",
       "        5.00512831e-02,  5.19203991e-02, -2.40056254e-02,  6.24150336e-02,\n",
       "        7.27074072e-02, -9.06002056e-03, -4.38125730e-02,  6.43938174e-03,\n",
       "        1.39870523e-02, -4.95548360e-02,  6.92612529e-02,  8.01374391e-02,\n",
       "       -3.95988263e-02,  7.53033757e-02,  1.21458562e-03,  5.30398190e-02,\n",
       "        3.54279242e-02, -5.63901328e-02, -1.30820507e-02, -2.08841283e-02,\n",
       "       -2.01453418e-02, -6.44909125e-03,  3.29649122e-03, -7.88339749e-02,\n",
       "       -5.85569628e-02, -1.14020510e-02,  1.04591195e-02,  3.75473835e-02,\n",
       "       -5.47927357e-02, -3.06725223e-02,  6.56528249e-02,  4.42456827e-02,\n",
       "        2.84398440e-02, -8.01974535e-02, -4.85482393e-03,  5.60145564e-02,\n",
       "        1.56929716e-02, -3.40142064e-02,  5.17711230e-02, -2.11221036e-02,\n",
       "        4.09248844e-02,  2.71140113e-02,  1.94092728e-02,  2.93265153e-02,\n",
       "       -7.75640458e-02, -1.98533330e-02, -4.03433014e-03, -7.43264183e-02,\n",
       "        1.50176976e-02,  5.15271910e-02,  7.72061571e-02,  5.39549142e-02,\n",
       "        3.00466195e-02,  1.99872050e-02,  7.40704034e-03, -1.35544930e-02,\n",
       "        3.50405797e-02,  4.77108657e-02,  1.20222699e-02, -7.71062523e-02,\n",
       "        7.77052343e-02, -5.68890311e-02, -3.87551971e-02, -5.85889816e-02,\n",
       "        3.28335017e-02, -3.05293724e-02,  7.01872334e-02, -2.67714858e-02,\n",
       "       -4.42197733e-03,  1.94782671e-02, -3.60014588e-02,  4.99746054e-02,\n",
       "        6.25797808e-02, -1.29742259e-02, -3.04919109e-03,  5.75104468e-02,\n",
       "        7.63552934e-02, -2.58987099e-02, -2.58143041e-02,  1.75499003e-02,\n",
       "        9.35613550e-03, -7.85099566e-02, -5.39187640e-02,  4.26358506e-02,\n",
       "       -3.65100652e-02,  1.90029561e-03, -5.67600392e-02,  3.08215339e-02,\n",
       "        3.93077993e-04,  3.72104608e-02,  7.12134838e-02,  2.65217852e-02,\n",
       "       -4.19796817e-02, -4.22012396e-02, -2.07746755e-02,  3.79118733e-02,\n",
       "       -6.29656315e-02, -3.94964926e-02, -5.51784001e-02, -7.21969455e-02,\n",
       "        5.01964092e-02, -3.66640417e-03,  1.00830346e-02, -7.53381848e-02,\n",
       "       -1.78277213e-02,  6.25870824e-02, -1.67978536e-02, -1.32377325e-02,\n",
       "        7.76174515e-02, -4.47161467e-04, -5.30610420e-02,  5.64476699e-02,\n",
       "        2.06790189e-03, -6.81713820e-02,  5.28141037e-02,  7.26143569e-02,\n",
       "       -8.80485587e-03,  6.67246385e-03,  4.22424125e-03,  4.06085048e-03,\n",
       "       -3.46910432e-02, -5.63562885e-02,  6.06580563e-02, -2.76929904e-02,\n",
       "        1.81224663e-02,  8.40891339e-03, -4.25678641e-02,  2.77601015e-02,\n",
       "        6.44106716e-02,  2.89416853e-02,  6.34460971e-02,  3.89921889e-02,\n",
       "       -5.68920374e-02, -7.31494976e-03, -5.04944846e-02,  2.76037026e-02,\n",
       "       -2.83487234e-02, -3.63847241e-02, -2.35949196e-02,  3.47573161e-02,\n",
       "        1.86077673e-02,  7.69702122e-02,  6.50690570e-02,  8.80372431e-03,\n",
       "       -7.97928050e-02, -2.23717485e-02, -5.19037209e-02, -3.78809427e-03,\n",
       "        6.72845468e-02,  2.51974855e-02,  4.59673256e-02,  5.82070602e-03,\n",
       "        2.11441200e-02, -4.03322577e-02, -4.28631678e-02, -7.94046894e-02,\n",
       "        2.51659174e-02,  2.94581074e-02, -3.46302707e-03, -5.40936105e-02,\n",
       "        7.04253390e-02, -5.16682267e-02,  3.73372212e-02,  2.30228696e-02,\n",
       "       -4.45796400e-02,  8.91823135e-03, -5.17706200e-03,  4.47773971e-02,\n",
       "        4.44194376e-02, -6.84569925e-02,  5.48198149e-02,  1.84923820e-02,\n",
       "       -1.75276846e-02,  5.02817966e-02,  2.33438853e-02, -6.41328443e-05,\n",
       "       -8.00361037e-02,  3.70139107e-02, -5.02774082e-02, -2.56692860e-02,\n",
       "       -3.70109044e-02,  2.85417940e-02,  4.54867668e-02, -7.99401775e-02,\n",
       "        4.84924242e-02, -4.43691462e-02, -5.32984640e-03, -6.24533892e-02,\n",
       "       -6.36672080e-02, -8.31355993e-03,  5.56450598e-02, -7.79000595e-02,\n",
       "        6.37840480e-02,  1.81019660e-02, -6.73585907e-02, -5.41138873e-02,\n",
       "       -1.66250933e-02,  7.71010667e-02, -3.02634155e-03, -7.36610591e-02],\n",
       "      dtype=float32)>"
      ]
     },
     "execution_count": 23,
     "metadata": {},
     "output_type": "execute_result"
    }
   ],
   "source": [
    "filter_encodings['specials']['vegan']"
   ]
  },
  {
   "cell_type": "code",
   "execution_count": 24,
   "metadata": {},
   "outputs": [],
   "source": [
    "# save object to file\n",
    "import pickle \n",
    "file_pi = open('server/data/filter_encodings.obj', 'wb') \n",
    "pickle.dump(filter_encodings, file_pi)"
   ]
  },
  {
   "cell_type": "code",
   "execution_count": 25,
   "metadata": {},
   "outputs": [],
   "source": [
    "#file_pi2 = open('filter_encodings.obj', 'rb') \n",
    "#object_pi2 = pickle.load(file_pi2)"
   ]
  },
  {
   "cell_type": "markdown",
   "metadata": {},
   "source": [
    "## Generate Phrases"
   ]
  },
  {
   "cell_type": "code",
   "execution_count": 26,
   "metadata": {},
   "outputs": [],
   "source": [
    "skeleton_phrases = [\n",
    "    '- Do you have [](order_item)?',\n",
    "    '- I want [](order_item)',\n",
    "    '- I\\'m looking for [](order_item)',\n",
    "    '- Yes, I want [](order_item)',\n",
    "    '- I would like some [](order_item)',\n",
    "]"
   ]
  },
  {
   "cell_type": "code",
   "execution_count": 27,
   "metadata": {},
   "outputs": [],
   "source": [
    "import random"
   ]
  },
  {
   "cell_type": "code",
   "execution_count": 28,
   "metadata": {},
   "outputs": [],
   "source": [
    "named_phrases = []\n",
    "for k in filter_encodings['names']:\n",
    "    choice = random.choice(skeleton_phrases)\n",
    "    named_phrases.append(choice.replace('[]', \"[{}]\".format(k)))"
   ]
  },
  {
   "cell_type": "code",
   "execution_count": 29,
   "metadata": {},
   "outputs": [
    {
     "name": "stdout",
     "output_type": "stream",
     "text": [
      "- I want [Japanese ramen noodle soup](order_item)\n",
      "- I want [Japanese rice/gohan](order_item)\n",
      "- Do you have [Miso Soup](order_item)?\n",
      "- Do you have [Smoked salmon & avocado sushi](order_item)?\n",
      "- I would like some [Beetroot & avocado nori rolls with wasabi dipping sauce](order_item)\n",
      "- I would like some [Gyoza](order_item)\n",
      "- I want [Yaki udon](order_item)\n",
      "- Do you have [Onigiri - Japanese Rice Balls](order_item)?\n",
      "- I want [Mochi](order_item)\n",
      "- I'm looking for [Vegan ramen](order_item)\n",
      "- I would like some [Yakisoba - Japanese Stir Fry Noodles](order_item)\n",
      "- I'm looking for [Quiche Lorraine](order_item)\n",
      "- I'm looking for [White chocolate crème brûlée](order_item)\n",
      "- Do you have [Caramel soufflés with caramel sauce](order_item)?\n",
      "- I'm looking for [Macarons](order_item)\n",
      "- Do you have [Ratatouille](order_item)?\n",
      "- Yes, I want [Salade niçoise](order_item)\n",
      "- Do you have [Pork cassoulet](order_item)?\n",
      "- I'm looking for [Coq au vin](order_item)\n",
      "- Yes, I want [Tarte Tatin](order_item)\n",
      "- Do you have [Pizza Margherita](order_item)?\n",
      "- I want [Vegan pizza Margherita](order_item)\n",
      "- I want [Gluten-free pizza](order_item)\n",
      "- Do you have [Cheese & bacon pizza](order_item)?\n",
      "- Do you have [Tuna pizza](order_item)?\n",
      "- I want [Tortellini with pesto & broccoli](order_item)\n",
      "- Do you have [Strawberry panna cotta](order_item)?\n",
      "- I'm looking for [Carbonara with chicken](order_item)\n",
      "- I would like some [Chicken meatballs spaghetti](order_item)\n",
      "- Yes, I want [Calzone](order_item)\n",
      "- Do you have [Spaghetti bolognese](order_item)?\n",
      "- I want [Summer courgette risotto](order_item)\n",
      "- Yes, I want [Lasagne](order_item)\n",
      "- Do you have [Tiramisu](order_item)?\n",
      "- Do you have [Ultimate guacamole](order_item)?\n",
      "- I'm looking for [sweetcorn & tomato nachos](order_item)\n",
      "- I want [Chicken quesadillas](order_item)\n",
      "- I want [Sweet potato, peanut butter & chilli quesadillas](order_item)\n",
      "- Yes, I want [Chicken enchiladas](order_item)\n",
      "- I would like some [Chicken burrito](order_item)\n",
      "- Do you have [Vegan burritos](order_item)?\n",
      "- I'm looking for [Fish tacos](order_item)\n",
      "- Yes, I want [Spicy black bean tacos](order_item)\n",
      "- I would like some [Chilli Con Carne](order_item)\n",
      "- I would like some [Posole](order_item)\n"
     ]
    }
   ],
   "source": [
    "for p in named_phrases:\n",
    "    print(p)"
   ]
  },
  {
   "cell_type": "code",
   "execution_count": null,
   "metadata": {},
   "outputs": [],
   "source": []
  }
 ],
 "metadata": {
  "kernelspec": {
   "display_name": "Python 3",
   "language": "python",
   "name": "python3"
  },
  "language_info": {
   "codemirror_mode": {
    "name": "ipython",
    "version": 3
   },
   "file_extension": ".py",
   "mimetype": "text/x-python",
   "name": "python",
   "nbconvert_exporter": "python",
   "pygments_lexer": "ipython3",
   "version": "3.7.9"
  }
 },
 "nbformat": 4,
 "nbformat_minor": 4
}
