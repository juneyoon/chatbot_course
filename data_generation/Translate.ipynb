{
 "cells": [
  {
   "cell_type": "code",
   "execution_count": 2,
   "metadata": {},
   "outputs": [],
   "source": [
    "from google.cloud import translate"
   ]
  },
  {
   "cell_type": "code",
   "execution_count": 3,
   "metadata": {},
   "outputs": [],
   "source": [
    "import time\n",
    "import re\n",
    "import copy"
   ]
  },
  {
   "cell_type": "code",
   "execution_count": 4,
   "metadata": {},
   "outputs": [],
   "source": [
    "project_id = \"thematic-bloom-275007\"\n",
    "parent = 'projects/{}'.format(project_id)"
   ]
  },
  {
   "cell_type": "code",
   "execution_count": 5,
   "metadata": {},
   "outputs": [],
   "source": [
    "client = translate.TranslationServiceClient()"
   ]
  },
  {
   "cell_type": "code",
   "execution_count": 6,
   "metadata": {},
   "outputs": [
    {
     "name": "stdout",
     "output_type": "stream",
     "text": [
      "Supported Languages:\n",
      "Language Code: af\n",
      "Language Code: am\n",
      "Language Code: ar\n",
      "Language Code: az\n",
      "Language Code: be\n",
      "Language Code: bg\n",
      "Language Code: bn\n",
      "Language Code: bs\n",
      "Language Code: ca\n",
      "Language Code: ceb\n",
      "Language Code: co\n",
      "Language Code: cs\n",
      "Language Code: cy\n",
      "Language Code: da\n",
      "Language Code: de\n",
      "Language Code: el\n",
      "Language Code: en\n",
      "Language Code: eo\n",
      "Language Code: es\n",
      "Language Code: et\n",
      "Language Code: eu\n",
      "Language Code: fa\n",
      "Language Code: fi\n",
      "Language Code: fr\n",
      "Language Code: fy\n",
      "Language Code: ga\n",
      "Language Code: gd\n",
      "Language Code: gl\n",
      "Language Code: gu\n",
      "Language Code: ha\n",
      "Language Code: haw\n",
      "Language Code: he\n",
      "Language Code: hi\n",
      "Language Code: hmn\n",
      "Language Code: hr\n",
      "Language Code: ht\n",
      "Language Code: hu\n",
      "Language Code: hy\n",
      "Language Code: id\n",
      "Language Code: ig\n",
      "Language Code: is\n",
      "Language Code: it\n",
      "Language Code: iw\n",
      "Language Code: ja\n",
      "Language Code: jw\n",
      "Language Code: ka\n",
      "Language Code: kk\n",
      "Language Code: km\n",
      "Language Code: kn\n",
      "Language Code: ko\n",
      "Language Code: ku\n",
      "Language Code: ky\n",
      "Language Code: la\n",
      "Language Code: lb\n",
      "Language Code: lo\n",
      "Language Code: lt\n",
      "Language Code: lv\n",
      "Language Code: mg\n",
      "Language Code: mi\n",
      "Language Code: mk\n",
      "Language Code: ml\n",
      "Language Code: mn\n",
      "Language Code: mr\n",
      "Language Code: ms\n",
      "Language Code: mt\n",
      "Language Code: my\n",
      "Language Code: ne\n",
      "Language Code: nl\n",
      "Language Code: no\n",
      "Language Code: ny\n",
      "Language Code: or\n",
      "Language Code: pa\n",
      "Language Code: pl\n",
      "Language Code: ps\n",
      "Language Code: pt\n",
      "Language Code: ro\n",
      "Language Code: ru\n",
      "Language Code: rw\n",
      "Language Code: sd\n",
      "Language Code: si\n",
      "Language Code: sk\n",
      "Language Code: sl\n",
      "Language Code: sm\n",
      "Language Code: sn\n",
      "Language Code: so\n",
      "Language Code: sq\n",
      "Language Code: sr\n",
      "Language Code: st\n",
      "Language Code: su\n",
      "Language Code: sv\n",
      "Language Code: sw\n",
      "Language Code: ta\n",
      "Language Code: te\n",
      "Language Code: tg\n",
      "Language Code: th\n",
      "Language Code: tk\n",
      "Language Code: tl\n",
      "Language Code: tr\n",
      "Language Code: tt\n",
      "Language Code: ug\n",
      "Language Code: uk\n",
      "Language Code: ur\n",
      "Language Code: uz\n",
      "Language Code: vi\n",
      "Language Code: xh\n",
      "Language Code: yi\n",
      "Language Code: yo\n",
      "Language Code: zh\n",
      "Language Code: zh-CN\n",
      "Language Code: zh-TW\n",
      "Language Code: zu\n"
     ]
    }
   ],
   "source": [
    "response = client.get_supported_languages(parent = parent)\n",
    "\n",
    "print('Supported Languages:')\n",
    "for language in response.languages:\n",
    "    print('Language Code: {}'.format(language.language_code))"
   ]
  },
  {
   "cell_type": "code",
   "execution_count": 7,
   "metadata": {},
   "outputs": [],
   "source": [
    "def translate(text, lang_from, lang_to):\n",
    "    if len(text)>128:\n",
    "        text = text[:128]\n",
    "    response = client.translate_text(\n",
    "    parent=parent,\n",
    "    contents=text,\n",
    "    mime_type='text/plain',  # mime types: text/plain, text/html\n",
    "    source_language_code=lang_from,\n",
    "    target_language_code=lang_to)\n",
    "    \n",
    "    res = []\n",
    "    for line in response.translations:\n",
    "        res.append(line.translated_text)\n",
    "\n",
    "    return res"
   ]
  },
  {
   "cell_type": "code",
   "execution_count": 8,
   "metadata": {},
   "outputs": [
    {
     "data": {
      "text/plain": [
       "['Caut [Onigiri - Bile de orez japoneze] (001)']"
      ]
     },
     "execution_count": 8,
     "metadata": {},
     "output_type": "execute_result"
    }
   ],
   "source": [
    "ro_res = translate([\"I'm looking for [Onigiri - Japanese Rice Balls](001)\"], \"en\", \"ro\")\n",
    "ro_res"
   ]
  },
  {
   "cell_type": "code",
   "execution_count": 9,
   "metadata": {},
   "outputs": [
    {
     "data": {
      "text/plain": [
       "['Cerca [Onigiri - Polpette di riso giapponesi] (001)']"
      ]
     },
     "execution_count": 9,
     "metadata": {},
     "output_type": "execute_result"
    }
   ],
   "source": [
    "it_res = translate(ro_res, \"ro\", \"it\")\n",
    "it_res"
   ]
  },
  {
   "cell_type": "code",
   "execution_count": 10,
   "metadata": {},
   "outputs": [
    {
     "data": {
      "text/plain": [
       "['Search for [Onigiri - Japanese rice balls] (001)']"
      ]
     },
     "execution_count": 10,
     "metadata": {},
     "output_type": "execute_result"
    }
   ],
   "source": [
    "en_res = translate(it_res, \"it\", \"en\")\n",
    "en_res"
   ]
  },
  {
   "cell_type": "code",
   "execution_count": 11,
   "metadata": {},
   "outputs": [],
   "source": [
    "with open (\"example.md\", \"r\") as myfile:\n",
    "    data=myfile.readlines()"
   ]
  },
  {
   "cell_type": "code",
   "execution_count": 12,
   "metadata": {},
   "outputs": [],
   "source": [
    "def parse_entities(entity_names, txt):\n",
    "    res = re.findall('\\[[^\\]]+\\]\\([^\\)]+\\)', txt)\n",
    "    if res:\n",
    "        for r in res:\n",
    "            ent_name = r[r.find('](')+2:-1]\n",
    "            if entity_names.get(ent_name) is None:\n",
    "                code = str(len(entity_names)+100)\n",
    "                entity_names[ent_name] = code\n",
    "            else:\n",
    "                code = entity_names[ent_name]\n",
    "            new_txt = r[:r.find('](')+1] + \"(\"+str(code)+\")\" \n",
    "            txt = txt.replace(r, new_txt)\n",
    "    return txt"
   ]
  },
  {
   "cell_type": "code",
   "execution_count": 13,
   "metadata": {},
   "outputs": [],
   "source": [
    "intents = {}\n",
    "entity_names = {}\n",
    "intent_name = None\n",
    "\n",
    "for line in data:\n",
    "    if line[0:2] == \"##\":\n",
    "        intent_name = line[10:-1]\n",
    "        intents[intent_name] = []\n",
    "    else:\n",
    "        if line[0:2] == \"- \":\n",
    "            l = parse_entities(entity_names, line[2:-1])\n",
    "            intents[intent_name].append(l)"
   ]
  },
  {
   "cell_type": "code",
   "execution_count": 14,
   "metadata": {
    "scrolled": true
   },
   "outputs": [
    {
     "data": {
      "text/plain": [
       "{'yes_simple': ['Sure',\n",
       "  'yes',\n",
       "  'ok',\n",
       "  \"That's why I'm here\",\n",
       "  'yes sure',\n",
       "  'absolutely',\n",
       "  'for sure',\n",
       "  'definitely',\n",
       "  'ok, sure',\n",
       "  'of course'],\n",
       " 'yes_not_sure': ['what do you have?',\n",
       "  'sure, what can I get?',\n",
       "  'yes, but not sure what I want',\n",
       "  'what can I get?',\n",
       "  \"what's in the menu?\",\n",
       "  \"what's on the menu?\",\n",
       "  'not sure what I want',\n",
       "  'can you help me choose?',\n",
       "  \"I'm not sure\"],\n",
       " 'yes_x_y': ['Yes, I want [a pizza](100)',\n",
       "  'Yes, I want [a soup](100) and [a pizza](100)',\n",
       "  'Do you have [pizza](100)?',\n",
       "  'I want something [italian](100)',\n",
       "  '[a pizza](100) and [something sweet](100)',\n",
       "  'I want [a pizza](100) and some [soup](100)',\n",
       "  'What do you have [sweet](100)?',\n",
       "  'I want [a meal](100) and [a soup](100)',\n",
       "  'What kind of [pizza](100) do you have?',\n",
       "  'Give me something [japanese](100)',\n",
       "  \"Yes, I'm looking for something from [France](100)\",\n",
       "  'Do you have [mexican](100)?',\n",
       "  \"Sure, what do you have that's [vegan](100)?\",\n",
       "  'I need something [without gluten](100)',\n",
       "  'Something [gluten-free](100)?',\n",
       "  'Do you have any [dairy-free](100) [meals](100)?',\n",
       "  \"I'm a [vegetarian](100)\",\n",
       "  'Yes, I want something [egg-free](100)',\n",
       "  'Do you have [Japanese ramen noodle soup](100)?',\n",
       "  'I want [Japanese rice/gohan](100)',\n",
       "  'I want [Miso Soup](100)',\n",
       "  'I would like some [Smoked salmon & avocado sushi](100)',\n",
       "  'Do you have [Beetroot & avocado nori rolls with wasabi dipping sauce](100)?',\n",
       "  'Yes, I want [Gyoza](100)',\n",
       "  'I want [Yaki udon](100)',\n",
       "  \"I'm looking for [Onigiri - Japanese Rice Balls](100)\",\n",
       "  \"I'm looking for [Mochi](100)\",\n",
       "  'I would like some [Vegan ramen](100)',\n",
       "  'I would like some [Yakisoba - Japanese Stir Fry Noodles](100)',\n",
       "  'Yes, I want [Quiche Lorraine](100)',\n",
       "  'I would like some [White chocolate crème brûlée](100)',\n",
       "  \"I'm looking for [Caramel soufflés with caramel sauce](100)\",\n",
       "  'Do you have [Macarons](100)?',\n",
       "  'I want [Ratatouille](100)',\n",
       "  'I would like some [Salade niçoise](100)',\n",
       "  'Yes, I want [Pork cassoulet](100)',\n",
       "  'I want [Coq au vin](100)',\n",
       "  'I want [Tarte Tatin](100)',\n",
       "  'I want [Pizza Margherita](100)',\n",
       "  'Yes, I want [Vegan pizza Margherita](100)',\n",
       "  \"I'm looking for [Gluten-free pizza](100)\",\n",
       "  'I want [Cheese & bacon pizza](100)',\n",
       "  'Yes, I want [Tuna pizza](100)',\n",
       "  \"I'm looking for [Tortellini with pesto & broccoli](100)\",\n",
       "  'Yes, I want [Strawberry panna cotta](100)',\n",
       "  'Do you have [Carbonara with chicken](100)?',\n",
       "  'Yes, I want [Chicken meatballs spaghetti](100)',\n",
       "  'I would like some [Calzone](100)',\n",
       "  \"I'm looking for [Spaghetti bolognese](100)\",\n",
       "  'I want [Summer courgette risotto](100)',\n",
       "  \"I'm looking for [Lasagne](100)\",\n",
       "  \"I'm looking for [Tiramisu](100)\",\n",
       "  'I would like some [Ultimate guacamole](100)',\n",
       "  'Do you have [sweetcorn & tomato nachos](100)?',\n",
       "  'I want [Chicken quesadillas](100)',\n",
       "  'I want [Sweet potato, peanut butter & chilli quesadillas](100)',\n",
       "  'Do you have [Chicken enchiladas](100)?',\n",
       "  'Yes, I want [Chicken burrito](100)',\n",
       "  'Do you have [Vegan burritos](100)?',\n",
       "  'Yes, I want [Fish tacos](100)',\n",
       "  'I want [Spicy black bean tacos](100)',\n",
       "  'Yes, I want [Chilli Con Carne](100)',\n",
       "  'I would like some [Posole](100)',\n",
       "  'What [pizza](100) do you have?'],\n",
       " 'decline': ['no',\n",
       "  'no way',\n",
       "  'absolutely not',\n",
       "  'not really',\n",
       "  'no no',\n",
       "  'definitely not',\n",
       "  'I think not',\n",
       "  \"I don't think so\",\n",
       "  'no thank you',\n",
       "  'no, thank you',\n",
       "  'no, thanks',\n",
       "  'no thanks']}"
      ]
     },
     "execution_count": 14,
     "metadata": {},
     "output_type": "execute_result"
    }
   ],
   "source": [
    "intents"
   ]
  },
  {
   "cell_type": "code",
   "execution_count": 15,
   "metadata": {},
   "outputs": [
    {
     "name": "stdout",
     "output_type": "stream",
     "text": [
      "Intent - yes_simple\n",
      "step 1\n",
      "step 2\n",
      "step 3\n",
      "Intent - yes_not_sure\n",
      "step 1\n",
      "step 2\n",
      "step 3\n",
      "Intent - yes_x_y\n",
      "step 1\n",
      "step 2\n",
      "step 3\n",
      "Intent - decline\n",
      "step 1\n",
      "step 2\n",
      "step 3\n"
     ]
    }
   ],
   "source": [
    "new_intents = copy.deepcopy(intents)\n",
    "time_to_sleep = 2\n",
    "languages_1 = [\"ja\", \"de\", \"es\", \"it\"]\n",
    "languages_2 = [\"ro\", \"id\", \"fy\", \"fr\"]\n",
    "for intent_name, lines in intents.items():\n",
    "    print(\"Intent - {}\".format(intent_name))\n",
    "    languages_1_translations = []\n",
    "    for l in languages_1:\n",
    "        languages_1_translations.append({\n",
    "            'language_code': l,\n",
    "            'lines': translate(lines, 'en', l)\n",
    "        })\n",
    "        time.sleep(time_to_sleep)\n",
    "    print(\"step 1\")\n",
    "    \n",
    "    languages_2_translations = []\n",
    "    i = 0\n",
    "    for l in languages_2:\n",
    "        languages_2_translations.append({\n",
    "            'language_code': l,\n",
    "            'lines': translate(languages_1_translations[i]['lines'], languages_1_translations[i]['language_code'], l)\n",
    "        })\n",
    "        time.sleep(time_to_sleep)\n",
    "        i+=1\n",
    "    print(\"step 2\")\n",
    "    \n",
    "    res = []\n",
    "    \n",
    "    for i in range(0, len(languages_2_translations)):\n",
    "        res.extend(translate(languages_2_translations[i]['lines'], languages_2_translations[i]['language_code'], 'en'))\n",
    "        \n",
    "    print(\"step 3\")\n",
    "    \n",
    "    for r in res:\n",
    "        if r not in new_intents[intent_name]:\n",
    "            new_intents[intent_name].append(r)\n",
    "    "
   ]
  },
  {
   "cell_type": "code",
   "execution_count": null,
   "metadata": {},
   "outputs": [],
   "source": []
  }
 ],
 "metadata": {
  "kernelspec": {
   "display_name": "Python 3",
   "language": "python",
   "name": "python3"
  },
  "language_info": {
   "codemirror_mode": {
    "name": "ipython",
    "version": 3
   },
   "file_extension": ".py",
   "mimetype": "text/x-python",
   "name": "python",
   "nbconvert_exporter": "python",
   "pygments_lexer": "ipython3",
   "version": "3.7.9"
  }
 },
 "nbformat": 4,
 "nbformat_minor": 4
}
